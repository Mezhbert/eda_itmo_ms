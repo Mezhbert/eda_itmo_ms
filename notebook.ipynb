{
 "cells": [
  {
   "cell_type": "code",
   "execution_count": null,
   "id": "7a079955",
   "metadata": {},
   "outputs": [],
   "source": [
    "import pandas as pd\n",
    "import numpy as np\n",
    "import math"
   ]
  },
  {
   "cell_type": "markdown",
   "id": "6c156433",
   "metadata": {},
   "source": [
    "## EDA"
   ]
  },
  {
   "cell_type": "code",
   "execution_count": 2,
   "id": "9ffc79a6",
   "metadata": {},
   "outputs": [],
   "source": [
    "fraud_df = pd.read_parquet('data/transaction_fraud_data.parquet')\n",
    "currency_df = pd.read_parquet('data/historical_currency_exchange.parquet')"
   ]
  },
  {
   "cell_type": "code",
   "execution_count": 3,
   "id": "b0ebf597",
   "metadata": {},
   "outputs": [
    {
     "name": "stdout",
     "output_type": "stream",
     "text": [
      "Index(['transaction_id', 'customer_id', 'card_number', 'timestamp',\n",
      "       'vendor_category', 'vendor_type', 'vendor', 'amount', 'currency',\n",
      "       'country', 'city', 'city_size', 'card_type', 'is_card_present',\n",
      "       'device', 'channel', 'device_fingerprint', 'ip_address',\n",
      "       'is_outside_home_country', 'is_high_risk_vendor', 'is_weekend',\n",
      "       'last_hour_activity', 'is_fraud'],\n",
      "      dtype='object')\n"
     ]
    },
    {
     "data": {
      "text/html": [
       "<div>\n",
       "<style scoped>\n",
       "    .dataframe tbody tr th:only-of-type {\n",
       "        vertical-align: middle;\n",
       "    }\n",
       "\n",
       "    .dataframe tbody tr th {\n",
       "        vertical-align: top;\n",
       "    }\n",
       "\n",
       "    .dataframe thead th {\n",
       "        text-align: right;\n",
       "    }\n",
       "</style>\n",
       "<table border=\"1\" class=\"dataframe\">\n",
       "  <thead>\n",
       "    <tr style=\"text-align: right;\">\n",
       "      <th></th>\n",
       "      <th>transaction_id</th>\n",
       "      <th>customer_id</th>\n",
       "      <th>card_number</th>\n",
       "      <th>timestamp</th>\n",
       "      <th>vendor_category</th>\n",
       "      <th>vendor_type</th>\n",
       "      <th>vendor</th>\n",
       "      <th>amount</th>\n",
       "      <th>currency</th>\n",
       "      <th>country</th>\n",
       "      <th>...</th>\n",
       "      <th>is_card_present</th>\n",
       "      <th>device</th>\n",
       "      <th>channel</th>\n",
       "      <th>device_fingerprint</th>\n",
       "      <th>ip_address</th>\n",
       "      <th>is_outside_home_country</th>\n",
       "      <th>is_high_risk_vendor</th>\n",
       "      <th>is_weekend</th>\n",
       "      <th>last_hour_activity</th>\n",
       "      <th>is_fraud</th>\n",
       "    </tr>\n",
       "  </thead>\n",
       "  <tbody>\n",
       "    <tr>\n",
       "      <th>0</th>\n",
       "      <td>TX_a0ad2a2a</td>\n",
       "      <td>CUST_72886</td>\n",
       "      <td>6646734767813109</td>\n",
       "      <td>2024-09-30 00:00:01.034820</td>\n",
       "      <td>Restaurant</td>\n",
       "      <td>fast_food</td>\n",
       "      <td>Taco Bell</td>\n",
       "      <td>294.87</td>\n",
       "      <td>GBP</td>\n",
       "      <td>UK</td>\n",
       "      <td>...</td>\n",
       "      <td>False</td>\n",
       "      <td>iOS App</td>\n",
       "      <td>mobile</td>\n",
       "      <td>e8e6160445c935fd0001501e4cbac8bc</td>\n",
       "      <td>197.153.60.199</td>\n",
       "      <td>False</td>\n",
       "      <td>False</td>\n",
       "      <td>False</td>\n",
       "      <td>{'num_transactions': 1197, 'total_amount': 334...</td>\n",
       "      <td>False</td>\n",
       "    </tr>\n",
       "    <tr>\n",
       "      <th>1</th>\n",
       "      <td>TX_3599c101</td>\n",
       "      <td>CUST_70474</td>\n",
       "      <td>376800864692727</td>\n",
       "      <td>2024-09-30 00:00:01.764464</td>\n",
       "      <td>Entertainment</td>\n",
       "      <td>gaming</td>\n",
       "      <td>Steam</td>\n",
       "      <td>3368.97</td>\n",
       "      <td>BRL</td>\n",
       "      <td>Brazil</td>\n",
       "      <td>...</td>\n",
       "      <td>False</td>\n",
       "      <td>Edge</td>\n",
       "      <td>web</td>\n",
       "      <td>a73043a57091e775af37f252b3a32af9</td>\n",
       "      <td>208.123.221.203</td>\n",
       "      <td>True</td>\n",
       "      <td>True</td>\n",
       "      <td>False</td>\n",
       "      <td>{'num_transactions': 509, 'total_amount': 2011...</td>\n",
       "      <td>True</td>\n",
       "    </tr>\n",
       "    <tr>\n",
       "      <th>2</th>\n",
       "      <td>TX_a9461c6d</td>\n",
       "      <td>CUST_10715</td>\n",
       "      <td>5251909460951913</td>\n",
       "      <td>2024-09-30 00:00:02.273762</td>\n",
       "      <td>Grocery</td>\n",
       "      <td>physical</td>\n",
       "      <td>Whole Foods</td>\n",
       "      <td>102582.38</td>\n",
       "      <td>JPY</td>\n",
       "      <td>Japan</td>\n",
       "      <td>...</td>\n",
       "      <td>False</td>\n",
       "      <td>Firefox</td>\n",
       "      <td>web</td>\n",
       "      <td>218864e94ceaa41577d216b149722261</td>\n",
       "      <td>10.194.159.204</td>\n",
       "      <td>False</td>\n",
       "      <td>False</td>\n",
       "      <td>False</td>\n",
       "      <td>{'num_transactions': 332, 'total_amount': 3916...</td>\n",
       "      <td>False</td>\n",
       "    </tr>\n",
       "    <tr>\n",
       "      <th>3</th>\n",
       "      <td>TX_7be21fc4</td>\n",
       "      <td>CUST_16193</td>\n",
       "      <td>376079286931183</td>\n",
       "      <td>2024-09-30 00:00:02.297466</td>\n",
       "      <td>Gas</td>\n",
       "      <td>major</td>\n",
       "      <td>Exxon</td>\n",
       "      <td>630.60</td>\n",
       "      <td>AUD</td>\n",
       "      <td>Australia</td>\n",
       "      <td>...</td>\n",
       "      <td>False</td>\n",
       "      <td>iOS App</td>\n",
       "      <td>mobile</td>\n",
       "      <td>70423fa3a1e74d01203cf93b51b9631d</td>\n",
       "      <td>17.230.177.225</td>\n",
       "      <td>False</td>\n",
       "      <td>False</td>\n",
       "      <td>False</td>\n",
       "      <td>{'num_transactions': 764, 'total_amount': 2201...</td>\n",
       "      <td>False</td>\n",
       "    </tr>\n",
       "    <tr>\n",
       "      <th>4</th>\n",
       "      <td>TX_150f490b</td>\n",
       "      <td>CUST_87572</td>\n",
       "      <td>6172948052178810</td>\n",
       "      <td>2024-09-30 00:00:02.544063</td>\n",
       "      <td>Healthcare</td>\n",
       "      <td>medical</td>\n",
       "      <td>Medical Center</td>\n",
       "      <td>724949.27</td>\n",
       "      <td>NGN</td>\n",
       "      <td>Nigeria</td>\n",
       "      <td>...</td>\n",
       "      <td>False</td>\n",
       "      <td>Chrome</td>\n",
       "      <td>web</td>\n",
       "      <td>9880776c7b6038f2af86bd4e18a1b1a4</td>\n",
       "      <td>136.241.219.151</td>\n",
       "      <td>True</td>\n",
       "      <td>False</td>\n",
       "      <td>False</td>\n",
       "      <td>{'num_transactions': 218, 'total_amount': 4827...</td>\n",
       "      <td>True</td>\n",
       "    </tr>\n",
       "  </tbody>\n",
       "</table>\n",
       "<p>5 rows × 23 columns</p>\n",
       "</div>"
      ],
      "text/plain": [
       "  transaction_id customer_id       card_number                  timestamp  \\\n",
       "0    TX_a0ad2a2a  CUST_72886  6646734767813109 2024-09-30 00:00:01.034820   \n",
       "1    TX_3599c101  CUST_70474   376800864692727 2024-09-30 00:00:01.764464   \n",
       "2    TX_a9461c6d  CUST_10715  5251909460951913 2024-09-30 00:00:02.273762   \n",
       "3    TX_7be21fc4  CUST_16193   376079286931183 2024-09-30 00:00:02.297466   \n",
       "4    TX_150f490b  CUST_87572  6172948052178810 2024-09-30 00:00:02.544063   \n",
       "\n",
       "  vendor_category vendor_type          vendor     amount currency    country  \\\n",
       "0      Restaurant   fast_food       Taco Bell     294.87      GBP         UK   \n",
       "1   Entertainment      gaming           Steam    3368.97      BRL     Brazil   \n",
       "2         Grocery    physical     Whole Foods  102582.38      JPY      Japan   \n",
       "3             Gas       major           Exxon     630.60      AUD  Australia   \n",
       "4      Healthcare     medical  Medical Center  724949.27      NGN    Nigeria   \n",
       "\n",
       "   ... is_card_present   device channel                device_fingerprint  \\\n",
       "0  ...           False  iOS App  mobile  e8e6160445c935fd0001501e4cbac8bc   \n",
       "1  ...           False     Edge     web  a73043a57091e775af37f252b3a32af9   \n",
       "2  ...           False  Firefox     web  218864e94ceaa41577d216b149722261   \n",
       "3  ...           False  iOS App  mobile  70423fa3a1e74d01203cf93b51b9631d   \n",
       "4  ...           False   Chrome     web  9880776c7b6038f2af86bd4e18a1b1a4   \n",
       "\n",
       "        ip_address is_outside_home_country is_high_risk_vendor is_weekend  \\\n",
       "0   197.153.60.199                   False               False      False   \n",
       "1  208.123.221.203                    True                True      False   \n",
       "2   10.194.159.204                   False               False      False   \n",
       "3   17.230.177.225                   False               False      False   \n",
       "4  136.241.219.151                    True               False      False   \n",
       "\n",
       "                                  last_hour_activity  is_fraud  \n",
       "0  {'num_transactions': 1197, 'total_amount': 334...     False  \n",
       "1  {'num_transactions': 509, 'total_amount': 2011...      True  \n",
       "2  {'num_transactions': 332, 'total_amount': 3916...     False  \n",
       "3  {'num_transactions': 764, 'total_amount': 2201...     False  \n",
       "4  {'num_transactions': 218, 'total_amount': 4827...      True  \n",
       "\n",
       "[5 rows x 23 columns]"
      ]
     },
     "execution_count": 3,
     "metadata": {},
     "output_type": "execute_result"
    }
   ],
   "source": [
    "print(fraud_df.columns)\n",
    "fraud_df.head()"
   ]
  },
  {
   "cell_type": "code",
   "execution_count": 21,
   "id": "427265a9",
   "metadata": {},
   "outputs": [
    {
     "name": "stdout",
     "output_type": "stream",
     "text": [
      "Index(['date', 'AUD', 'BRL', 'CAD', 'EUR', 'GBP', 'JPY', 'MXN', 'NGN', 'RUB',\n",
      "       'SGD', 'USD'],\n",
      "      dtype='object')\n"
     ]
    },
    {
     "data": {
      "text/html": [
       "<div>\n",
       "<style scoped>\n",
       "    .dataframe tbody tr th:only-of-type {\n",
       "        vertical-align: middle;\n",
       "    }\n",
       "\n",
       "    .dataframe tbody tr th {\n",
       "        vertical-align: top;\n",
       "    }\n",
       "\n",
       "    .dataframe thead th {\n",
       "        text-align: right;\n",
       "    }\n",
       "</style>\n",
       "<table border=\"1\" class=\"dataframe\">\n",
       "  <thead>\n",
       "    <tr style=\"text-align: right;\">\n",
       "      <th></th>\n",
       "      <th>date</th>\n",
       "      <th>AUD</th>\n",
       "      <th>BRL</th>\n",
       "      <th>CAD</th>\n",
       "      <th>EUR</th>\n",
       "      <th>GBP</th>\n",
       "      <th>JPY</th>\n",
       "      <th>MXN</th>\n",
       "      <th>NGN</th>\n",
       "      <th>RUB</th>\n",
       "      <th>SGD</th>\n",
       "      <th>USD</th>\n",
       "    </tr>\n",
       "  </thead>\n",
       "  <tbody>\n",
       "    <tr>\n",
       "      <th>0</th>\n",
       "      <td>2024-09-30</td>\n",
       "      <td>1.443654</td>\n",
       "      <td>5.434649</td>\n",
       "      <td>1.351196</td>\n",
       "      <td>0.895591</td>\n",
       "      <td>0.747153</td>\n",
       "      <td>142.573268</td>\n",
       "      <td>19.694724</td>\n",
       "      <td>1668.736400</td>\n",
       "      <td>94.133735</td>\n",
       "      <td>1.280156</td>\n",
       "      <td>1</td>\n",
       "    </tr>\n",
       "    <tr>\n",
       "      <th>1</th>\n",
       "      <td>2024-10-01</td>\n",
       "      <td>1.442917</td>\n",
       "      <td>5.444170</td>\n",
       "      <td>1.352168</td>\n",
       "      <td>0.897557</td>\n",
       "      <td>0.746956</td>\n",
       "      <td>143.831429</td>\n",
       "      <td>19.667561</td>\n",
       "      <td>1670.694524</td>\n",
       "      <td>92.898519</td>\n",
       "      <td>1.284352</td>\n",
       "      <td>1</td>\n",
       "    </tr>\n",
       "    <tr>\n",
       "      <th>2</th>\n",
       "      <td>2024-10-02</td>\n",
       "      <td>1.449505</td>\n",
       "      <td>5.425444</td>\n",
       "      <td>1.348063</td>\n",
       "      <td>0.903056</td>\n",
       "      <td>0.752241</td>\n",
       "      <td>143.806861</td>\n",
       "      <td>19.606748</td>\n",
       "      <td>1669.653006</td>\n",
       "      <td>94.583198</td>\n",
       "      <td>1.286983</td>\n",
       "      <td>1</td>\n",
       "    </tr>\n",
       "    <tr>\n",
       "      <th>3</th>\n",
       "      <td>2024-10-03</td>\n",
       "      <td>1.456279</td>\n",
       "      <td>5.442044</td>\n",
       "      <td>1.351451</td>\n",
       "      <td>0.906018</td>\n",
       "      <td>0.754584</td>\n",
       "      <td>146.916773</td>\n",
       "      <td>19.457701</td>\n",
       "      <td>1670.097873</td>\n",
       "      <td>95.655442</td>\n",
       "      <td>1.294391</td>\n",
       "      <td>1</td>\n",
       "    </tr>\n",
       "    <tr>\n",
       "      <th>4</th>\n",
       "      <td>2024-10-04</td>\n",
       "      <td>1.460930</td>\n",
       "      <td>5.477788</td>\n",
       "      <td>1.355260</td>\n",
       "      <td>0.906452</td>\n",
       "      <td>0.761891</td>\n",
       "      <td>146.592323</td>\n",
       "      <td>19.363467</td>\n",
       "      <td>1649.763738</td>\n",
       "      <td>94.755337</td>\n",
       "      <td>1.296800</td>\n",
       "      <td>1</td>\n",
       "    </tr>\n",
       "  </tbody>\n",
       "</table>\n",
       "</div>"
      ],
      "text/plain": [
       "         date       AUD       BRL       CAD       EUR       GBP         JPY  \\\n",
       "0  2024-09-30  1.443654  5.434649  1.351196  0.895591  0.747153  142.573268   \n",
       "1  2024-10-01  1.442917  5.444170  1.352168  0.897557  0.746956  143.831429   \n",
       "2  2024-10-02  1.449505  5.425444  1.348063  0.903056  0.752241  143.806861   \n",
       "3  2024-10-03  1.456279  5.442044  1.351451  0.906018  0.754584  146.916773   \n",
       "4  2024-10-04  1.460930  5.477788  1.355260  0.906452  0.761891  146.592323   \n",
       "\n",
       "         MXN          NGN        RUB       SGD  USD  \n",
       "0  19.694724  1668.736400  94.133735  1.280156    1  \n",
       "1  19.667561  1670.694524  92.898519  1.284352    1  \n",
       "2  19.606748  1669.653006  94.583198  1.286983    1  \n",
       "3  19.457701  1670.097873  95.655442  1.294391    1  \n",
       "4  19.363467  1649.763738  94.755337  1.296800    1  "
      ]
     },
     "execution_count": 21,
     "metadata": {},
     "output_type": "execute_result"
    }
   ],
   "source": [
    "print(currency_df.columns)\n",
    "currency_df.head()"
   ]
  },
  {
   "cell_type": "code",
   "execution_count": null,
   "id": "65719c5f",
   "metadata": {},
   "outputs": [
    {
     "name": "stdout",
     "output_type": "stream",
     "text": [
      "fraud_ratio: 0.2\n"
     ]
    }
   ],
   "source": [
    "fraud_ratio = round(fraud_df['is_fraud'].mean(), 1)\n",
    "\n",
    "print(f\"fraud_ratio: {fraud_ratio}\")"
   ]
  },
  {
   "cell_type": "code",
   "execution_count": 5,
   "id": "fc7d10ca",
   "metadata": {},
   "outputs": [
    {
     "name": "stdout",
     "output_type": "stream",
     "text": [
      "top countries by fraud activity:  Russia,Mexico,Brazil,Nigeria,Australia\n"
     ]
    }
   ],
   "source": [
    "frauds = fraud_df[fraud_df['is_fraud']]\n",
    "top5 = frauds['country'].value_counts().head(5)\n",
    "\n",
    "print(\"top countries by fraud activity: \", ','.join(top5.index))"
   ]
  },
  {
   "cell_type": "code",
   "execution_count": null,
   "id": "db520a02",
   "metadata": {},
   "outputs": [
    {
     "name": "stdout",
     "output_type": "stream",
     "text": [
      "avg number of transaction in one hour across clients:  2.4\n"
     ]
    }
   ],
   "source": [
    "fraud_df['timestamp'] = pd.to_datetime(fraud_df['timestamp'])\n",
    "fraud_df['hour'] = fraud_df['timestamp'].dt.floor('h')\n",
    "tx_per_client_hour = fraud_df.groupby(['customer_id', 'hour']).size()\n",
    "mean_tx_per_hour = tx_per_client_hour.mean()\n",
    "\n",
    "print(\"avg number of transaction in one hour across clients: \", np.floor(mean_tx_per_hour * 10) / 10)"
   ]
  },
  {
   "cell_type": "code",
   "execution_count": 32,
   "id": "67e2489e",
   "metadata": {},
   "outputs": [
    {
     "name": "stdout",
     "output_type": "stream",
     "text": [
      "Fraud ration among high risk transactions:  0.2\n"
     ]
    }
   ],
   "source": [
    "high_risk = fraud_df[fraud_df['is_high_risk_vendor']]\n",
    "fraud_ratio_high_risk = high_risk['is_fraud'].mean()\n",
    "\n",
    "print(\"Fraud ration among high risk transactions: \", np.ceil(fraud_ratio_high_risk * 10) / 10 )"
   ]
  },
  {
   "cell_type": "code",
   "execution_count": 8,
   "id": "e8c1caab",
   "metadata": {},
   "outputs": [
    {
     "name": "stdout",
     "output_type": "stream",
     "text": [
      "New York\n"
     ]
    }
   ],
   "source": [
    "df_real_cities = fraud_df[fraud_df['city'] != 'Unknown City']\n",
    "city_avg = df_real_cities.groupby('city')['amount'].mean()\n",
    "\n",
    "print(city_avg.idxmax())"
   ]
  },
  {
   "cell_type": "code",
   "execution_count": 9,
   "id": "96ec92cc",
   "metadata": {},
   "outputs": [
    {
     "name": "stdout",
     "output_type": "stream",
     "text": [
      "fast foodiest city:  Chicago\n"
     ]
    }
   ],
   "source": [
    "fastfood_df = fraud_df[fraud_df['vendor_type'] == 'fast_food']\n",
    "fastfood_df_real = fastfood_df[fastfood_df['city'] != 'Unknown City']\n",
    "mean_amount_by_city = fastfood_df_real.groupby('city')['amount'].mean()\n",
    "\n",
    "print(\"fast foodiest city: \", mean_amount_by_city.idxmax())"
   ]
  },
  {
   "cell_type": "code",
   "execution_count": null,
   "id": "7769d129",
   "metadata": {},
   "outputs": [],
   "source": [
    "def merge_currency_and_fraud(df, currency_df):\n",
    "    df = df.copy()\n",
    "    df['date'] = pd.to_datetime(df['timestamp']).dt.date\n",
    "    currency_df['date'] = pd.to_datetime(currency_df['date']).dt.date\n",
    "    \n",
    "    merged = df.merge(currency_df, on='date', how='left')\n",
    "    merged['rate_to_usd'] = merged.apply(lambda row: row[row['currency']], axis=1)\n",
    "    merged['usd_amount'] = merged['amount'] / merged['rate_to_usd']\n",
    "    \n",
    "    return merged\n",
    "\n",
    "\n",
    "merged_legit = merge_currency_and_fraud(fraud_df[~fraud_df['is_fraud']], currency_df)\n",
    "merged_non_legit = merge_currency_and_fraud(fraud_df[fraud_df['is_fraud']], currency_df)"
   ]
  },
  {
   "cell_type": "code",
   "execution_count": null,
   "id": "5a91f6c8",
   "metadata": {},
   "outputs": [
    {
     "name": "stdout",
     "output_type": "stream",
     "text": [
      "mean for legit transactions: 460\n",
      "std for legit transactions: 418\n",
      "mean for non-legit transactions: 875\n",
      "std for non-legit transactions: 1350\n"
     ]
    }
   ],
   "source": [
    "mean_legit = merged_legit['usd_amount'].mean()\n",
    "std_legit = merged_legit['usd_amount'].std()\n",
    "mean_non_legit = merged_non_legit['usd_amount'].mean()\n",
    "std_non_legit = merged_non_legit['usd_amount'].std()\n",
    "\n",
    "print(\"mean for legit transactions:\", math.ceil(mean_legit))\n",
    "print(\"std for legit transactions:\", math.ceil(std_legit))\n",
    "print(\"mean for non-legit transactions:\", math.ceil(mean_non_legit))\n",
    "print(\"std for non-legit transactions:\", math.ceil(std_non_legit))"
   ]
  },
  {
   "cell_type": "code",
   "execution_count": null,
   "id": "653685fc",
   "metadata": {},
   "outputs": [
    {
     "name": "stdout",
     "output_type": "stream",
     "text": [
      "number of pontentially dangerous clients: 229\n"
     ]
    }
   ],
   "source": [
    "fraud_df['unique_merchants_last_hour'] = fraud_df['last_hour_activity'].apply(\n",
    "    lambda x: x['unique_merchants'] if pd.notnull(x) else None)\n",
    "\n",
    "median_activities = fraud_df.groupby('customer_id')['unique_merchants_last_hour'].median()\n",
    "q95 = median_activities.quantile(0.95)\n",
    "pontentially_dangerous_count = (median_activities > q95).sum()\n",
    "\n",
    "print(\"number of pontentially dangerous clients:\", pontentially_dangerous_count)\n"
   ]
  },
  {
   "cell_type": "markdown",
   "id": "58f770de",
   "metadata": {},
   "source": [
    "## EDA выводы:\n",
    "\n",
    "- Доля мошеннических транзакций составляет 20% — это довольно высокая доля, требующая внимания.\n",
    "- Топ-5 стран по активности мошенничества: Россия, Мексика, Бразилия, Нигерия, Австралия. Это географические направления повышенного риска.\n",
    "- В среднем клиент совершает 2.4 транзакции в час — важный показатель клиентской активности для мониторинга.\n",
    "- Доля мошенничества среди транзакций у продавцов с высоким уровнем риска также 20% — подтверждает целесообразность выделения и отдельного анализа high risk категорий.\n",
    "- Город с наибольшей средней суммой транзакций — Нью-Йорк, что может указывать на концентрацию крупных операций.\n",
    "- Город с наибольшей средней суммой для fast food операций — Чикаго — потенциально интересный сегмент для дальнейшего изучения.\n",
    "- Средняя сумма легитимных транзакций — \\$460, со стандартным отклонением \\$418, тогда как средняя сумма мошеннических — \\$875 с высоким стандартным отклонением \\$1350. Значительная дисперсия у мошеннических операций указывает на нестабильность и разнообразие схем.\n"
   ]
  },
  {
   "cell_type": "markdown",
   "id": "2f8a5129",
   "metadata": {},
   "source": [
    "## Продуктовые гипотезы и рекомендации\n",
    "\n",
    "- Большая доля мошенничества (20%) указывает на необходимость усиления системы выявления и предотвращения мошеннических транзакций, особенно для клиентов и продавцов из указанных стран.\n",
    "- Рекомендуется создать специализированные правила или автоматизированные проверки для продавцов из списков high risk, поскольку риск мошенничества у них значительно выше.\n",
    "- Клиенты с высокой частотой транзакций за час (среднее — 2.4) могут быть целевой группой для дополнительного мониторинга или ограничения по количеству операций в короткий период.\n",
    "- Определение и мониторинг «потенциально опасных клиентов» (229 человек) может помочь в предотвращении мошеннической активности через персональные ограничения или усиление верификации."
   ]
  },
  {
   "cell_type": "markdown",
   "id": "6281b60e",
   "metadata": {},
   "source": [
    "## Технические гипотезы и направления\n",
    "\n",
    "- Высокое стандартное отклонение мошеннических транзакций (1350 USD) говорит о том, что мошеннические операции имеют непредсказуемый размер; поэтому стоит включить в модели признаки, связанные с аномальной величиной транзакций.\n",
    "- Значимые различия в поведении транзакций (например, доля мошенничества у high risk vendors) подразумевают необходимость сегментированного анализа и построения специализированных моделей для разных категорий продавцов.\n",
    "- Использование признаков, связанных с географией (страны и города), позволит улучшить качество предсказаний мошенничества.\n",
    "- Рассмотреть дополнительные каналы и устройства, участвующие в транзакциях, для выявления корреляций с мошенничеством.\n",
    "- Внедрение реального времени мониторинга активности клиентов с высоким уровнем last_hour_activity и уникальных продавцов, чтобы оперативно выявлять подозрительные паттерны"
   ]
  }
 ],
 "metadata": {
  "kernelspec": {
   "display_name": "venv",
   "language": "python",
   "name": "python3"
  },
  "language_info": {
   "codemirror_mode": {
    "name": "ipython",
    "version": 3
   },
   "file_extension": ".py",
   "mimetype": "text/x-python",
   "name": "python",
   "nbconvert_exporter": "python",
   "pygments_lexer": "ipython3",
   "version": "3.10.12"
  }
 },
 "nbformat": 4,
 "nbformat_minor": 5
}
